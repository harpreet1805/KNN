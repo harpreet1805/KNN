{
 "cells": [
  {
   "cell_type": "code",
   "execution_count": 1,
   "metadata": {},
   "outputs": [
    {
     "data": {
      "text/plain": [
       "<matplotlib.collections.PathCollection at 0x270a0b55940>"
      ]
     },
     "execution_count": 1,
     "metadata": {},
     "output_type": "execute_result"
    },
    {
     "data": {
      "image/png": "[encoded data removed]",
      "text/plain": [
       "<Figure size 432x288 with 1 Axes>"
      ]
     },
     "metadata": {},
     "output_type": "display_data"
    }
   ],
   "source": [
    "import numpy as np\n",
    "from sklearn.model_selection import train_test_split\n",
    "import matplotlib.pyplot as plt\n",
    "%matplotlib inline\n",
    "np.random.seed(2019)\n",
    "data=np.random.randn(200,2)\n",
    "data[:100,0]=data[:100,0]*4+10\n",
    "data[:100,1]=data[:100,1]*4+5\n",
    "data[100:,0]=data[100:,0]*4+18\n",
    "data[100:,1]=data[100:,1]*4+13\n",
    "y=np.append(np.ones(100),np.zeros(100))\n",
    "plt.scatter(data[:100,0],data[:100,1],color='red',marker='o',label='class1')\n",
    "plt.scatter(data[100:,0],data[100:,1],color='blue',marker='o',label='class2')\n",
    "\n"
   ]
  },
  {
   "cell_type": "code",
   "execution_count": 2,
   "metadata": {},
   "outputs": [],
   "source": [
    "X_train,X_test,y_train,y_test=train_test_split(data,y,test_size=0.5,stratify=y)"
   ]
  },
  {
   "cell_type": "code",
   "execution_count": 3,
   "metadata": {},
   "outputs": [],
   "source": [
    "#ypred=[]\n",
    "#for i in X_test:\n",
    "    #ypred.append(y_train[np.argmin(np.sqrt(np.square(X_train[:,0]-i[0]))+np.square(X_train[:,1]-i[1]))])\n",
    "#count=0\n",
    "#for i in range(100):\n",
    "    #if(ypred[i]==y_test[i]):\n",
    "        #count+=1\n",
    "#accuracy=count/100\n",
    "#accuracy\n",
    "\n"
   ]
  },
  {
   "cell_type": "code",
   "execution_count": 4,
   "metadata": {},
   "outputs": [
    {
     "data": {
      "text/plain": [
       "[<matplotlib.lines.Line2D at 0x270a0bf8c88>]"
      ]
     },
     "execution_count": 4,
     "metadata": {},
     "output_type": "execute_result"
    },
    {
     "data": {
      "image/png": "[encoded data removed]",
      "text/plain": [
       "<Figure size 432x288 with 1 Axes>"
      ]
     },
     "metadata": {},
     "output_type": "display_data"
    }
   ],
   "source": [
    "from scipy import stats\n",
    "\n",
    "k=[1,3,5,7,9,11,13,15,17,19,23,25]\n",
    "accuracy=[]\n",
    "for j in k:\n",
    "    ypred=[]\n",
    "    for i in X_test:\n",
    "        a=np.sqrt(np.square(X_train[:,0]-i[0])+np.square(X_train[:,1]-i[1]))\n",
    "        minikneighour=y_train[a.argsort()[:j]]\n",
    "        count1=sum(minikneighour)\n",
    "        count0=j-count1\n",
    "        if count1>count0:\n",
    "            ypred.append(1)\n",
    "        else:\n",
    "            ypred.append(0)\n",
    "    accuracy.append(np.sum(ypred-y_test==0)/100)\n",
    "accuracy\n",
    "plt.plot(k,accuracy)\n",
    "        \n",
    "                                                      \n",
    "    "
   ]
  },
  {
   "cell_type": "code",
   "execution_count": null,
   "metadata": {},
   "outputs": [],
   "source": []
  },
  {
   "cell_type": "code",
   "execution_count": null,
   "metadata": {},
   "outputs": [],
   "source": []
  },
  {
   "cell_type": "code",
   "execution_count": null,
   "metadata": {},
   "outputs": [],
   "source": []
  },
  {
   "cell_type": "code",
   "execution_count": null,
   "metadata": {},
   "outputs": [],
   "source": []
  },
  {
   "cell_type": "code",
   "execution_count": null,
   "metadata": {},
   "outputs": [],
   "source": []
  }
 ],
 "metadata": {
  "kernelspec": {
   "display_name": "Python 3",
   "language": "python",
   "name": "python3"
  },
  "language_info": {
   "codemirror_mode": {
    "name": "ipython",
    "version": 3
   },
   "file_extension": ".py",
   "mimetype": "text/x-python",
   "name": "python",
   "nbconvert_exporter": "python",
   "pygments_lexer": "ipython3",
   "version": "3.6.5"
  }
 },
 "nbformat": 4,
 "nbformat_minor": 2
}
